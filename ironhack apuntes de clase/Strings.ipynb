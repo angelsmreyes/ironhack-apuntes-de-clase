{
 "cells": [
  {
   "cell_type": "markdown",
   "id": "080e8b47",
   "metadata": {},
   "source": [
    "### String Operations"
   ]
  },
  {
   "cell_type": "code",
   "execution_count": 1,
   "id": "36a649ef",
   "metadata": {},
   "outputs": [
    {
     "data": {
      "text/plain": [
       "'Yo pedí 3 arepas y 4 tacos!!!$%$&'"
      ]
     },
     "execution_count": 1,
     "metadata": {},
     "output_type": "execute_result"
    }
   ],
   "source": [
    "'Buenos días'\n",
    "\n",
    "'Yo pedí 3 arepas y 4 tacos!!!$%$&'\n",
    "\n"
   ]
  },
  {
   "cell_type": "code",
   "execution_count": null,
   "id": "22b21978",
   "metadata": {},
   "outputs": [],
   "source": [
    "str # esto es una palabra reservada\n",
    "\n",
    "str = 'sdsds' #No!, mala practica\n",
    "\n"
   ]
  },
  {
   "cell_type": "markdown",
   "id": "b0ea20c2",
   "metadata": {},
   "source": [
    "### UNICODE 32bytes 2**32\n",
    "\n"
   ]
  },
  {
   "cell_type": "code",
   "execution_count": 4,
   "id": "8da15f09",
   "metadata": {},
   "outputs": [],
   "source": [
    "str1 = 'Esto es un string'\n",
    "str2 = \"Esto también es un string\"\n",
    "str3 = \"\"\"Esto es un string...\n",
    "            pero mas largo\n",
    "\"\"\""
   ]
  },
  {
   "cell_type": "code",
   "execution_count": 5,
   "id": "1cc7edde",
   "metadata": {},
   "outputs": [
    {
     "name": "stdout",
     "output_type": "stream",
     "text": [
      "Esto es un string\n",
      "Esto también es un string\n",
      "Esto es un string...\n",
      "            pero mas largo\n",
      "\n"
     ]
    }
   ],
   "source": [
    "print(str1)\n",
    "print(str2)\n",
    "print(str3)"
   ]
  },
  {
   "cell_type": "code",
   "execution_count": 6,
   "id": "e673341f",
   "metadata": {},
   "outputs": [
    {
     "name": "stdout",
     "output_type": "stream",
     "text": [
      "17\n",
      "25\n",
      "48\n"
     ]
    }
   ],
   "source": [
    "print(len(str1))\n",
    "print(len(str2))\n",
    "print(len(str3))"
   ]
  },
  {
   "cell_type": "code",
   "execution_count": 7,
   "id": "4345b394",
   "metadata": {},
   "outputs": [
    {
     "name": "stdout",
     "output_type": "stream",
     "text": [
      "66\n",
      "98\n",
      "97\n"
     ]
    }
   ],
   "source": [
    "import sys\n",
    "\n",
    "print(sys.getsizeof(str1))\n",
    "print(sys.getsizeof(str2))\n",
    "print(sys.getsizeof(str3))"
   ]
  },
  {
   "cell_type": "code",
   "execution_count": 9,
   "id": "2948eec8",
   "metadata": {},
   "outputs": [
    {
     "data": {
      "text/plain": [
       "28"
      ]
     },
     "execution_count": 9,
     "metadata": {},
     "output_type": "execute_result"
    }
   ],
   "source": [
    "sys.getsizeof(1)"
   ]
  },
  {
   "cell_type": "code",
   "execution_count": 12,
   "id": "a0698134",
   "metadata": {},
   "outputs": [
    {
     "data": {
      "text/plain": [
       "str"
      ]
     },
     "execution_count": 12,
     "metadata": {},
     "output_type": "execute_result"
    }
   ],
   "source": [
    "### UTF-8 es un tipo de codificación  \n",
    "\n",
    "string = 'Esto es Üni022_)'\n",
    "type(string)"
   ]
  },
  {
   "cell_type": "code",
   "execution_count": 15,
   "id": "0537b43f",
   "metadata": {},
   "outputs": [
    {
     "data": {
      "text/plain": [
       "b'Esto es \\xc3\\x9cni022_)'"
      ]
     },
     "execution_count": 15,
     "metadata": {},
     "output_type": "execute_result"
    }
   ],
   "source": [
    "# la b a la izquierda indica que es un objeto de bytes\n",
    "\n",
    "encoded_string = string.encode('utf-8')\n",
    "encoded_string"
   ]
  },
  {
   "cell_type": "code",
   "execution_count": 16,
   "id": "95d018f5",
   "metadata": {},
   "outputs": [
    {
     "data": {
      "text/plain": [
       "bytes"
      ]
     },
     "execution_count": 16,
     "metadata": {},
     "output_type": "execute_result"
    }
   ],
   "source": [
    "type(encoded_string)"
   ]
  },
  {
   "cell_type": "code",
   "execution_count": 17,
   "id": "ff7b1839",
   "metadata": {},
   "outputs": [
    {
     "data": {
      "text/plain": [
       "'Esto es Üni022_)'"
      ]
     },
     "execution_count": 17,
     "metadata": {},
     "output_type": "execute_result"
    }
   ],
   "source": [
    "encoded_string.decode('utf-8')"
   ]
  },
  {
   "cell_type": "code",
   "execution_count": 18,
   "id": "8f759c4e",
   "metadata": {},
   "outputs": [],
   "source": [
    "# Codificación latin para lenguas romances"
   ]
  },
  {
   "cell_type": "code",
   "execution_count": 19,
   "id": "7ee6fbf3",
   "metadata": {},
   "outputs": [
    {
     "data": {
      "text/plain": [
       "bytes"
      ]
     },
     "execution_count": 19,
     "metadata": {},
     "output_type": "execute_result"
    }
   ],
   "source": [
    "objeto_byte = b'Esto es un objeto tipo byte'\n",
    "type(objeto_byte)"
   ]
  },
  {
   "cell_type": "code",
   "execution_count": 34,
   "id": "ff76c0d1",
   "metadata": {},
   "outputs": [
    {
     "name": "stdout",
     "output_type": "stream",
     "text": [
      "E\n",
      "-------\n",
      "i\n",
      "edio de un silencio desierto...\n",
      "-------\n",
      " med\n",
      "-------\n",
      "nmdod\n",
      "-------\n",
      "En medio de un silencio desierto...\n",
      "dio de un silencio desierto..\n"
     ]
    }
   ],
   "source": [
    "nocturno = 'En medio de un silencio desierto...'\n",
    "\n",
    "print(nocturno[0])\n",
    "print('-------')\n",
    "print(nocturno[6])\n",
    "print(nocturno[4:])\n",
    "print('-------')\n",
    "print(nocturno[2:6])\n",
    "print('-------')\n",
    "print(nocturno[1:10:2])\n",
    "print('-------')\n",
    "print(nocturno[:])\n",
    "print(nocturno[5:-1])"
   ]
  },
  {
   "cell_type": "markdown",
   "id": "b72a0db7",
   "metadata": {},
   "source": [
    "concatenar strings"
   ]
  },
  {
   "cell_type": "code",
   "execution_count": 35,
   "id": "22bd7a57",
   "metadata": {},
   "outputs": [],
   "source": [
    "nocturno = 'En medio de un silencio desierto...'"
   ]
  },
  {
   "cell_type": "code",
   "execution_count": 36,
   "id": "c04b94ba",
   "metadata": {},
   "outputs": [],
   "source": [
    "nocturno_2 = 'como la calle antes del crimen'"
   ]
  },
  {
   "cell_type": "code",
   "execution_count": 37,
   "id": "6390bc0a",
   "metadata": {},
   "outputs": [
    {
     "data": {
      "text/plain": [
       "'En medio de un silencio desierto...como la calle antes del crimen'"
      ]
     },
     "execution_count": 37,
     "metadata": {},
     "output_type": "execute_result"
    }
   ],
   "source": [
    "nocturno + nocturno_2"
   ]
  },
  {
   "cell_type": "code",
   "execution_count": 39,
   "id": "2b69f278",
   "metadata": {},
   "outputs": [
    {
     "data": {
      "text/plain": [
       "'En medio de un silencio desierto... como la calle antes del crimen'"
      ]
     },
     "execution_count": 39,
     "metadata": {},
     "output_type": "execute_result"
    }
   ],
   "source": [
    "verso = [nocturno, nocturno_2]\n",
    "\n",
    "\n",
    "# une por espacio en la lista verso\n",
    "\" \".join(verso)"
   ]
  },
  {
   "cell_type": "code",
   "execution_count": 40,
   "id": "e54dad13",
   "metadata": {},
   "outputs": [
    {
     "data": {
      "text/plain": [
       "'En medio de un silencio desierto...|como la calle antes del crimen'"
      ]
     },
     "execution_count": 40,
     "metadata": {},
     "output_type": "execute_result"
    }
   ],
   "source": [
    "\"|\".join(verso)"
   ]
  },
  {
   "cell_type": "code",
   "execution_count": 41,
   "id": "477ce42b",
   "metadata": {},
   "outputs": [
    {
     "name": "stdout",
     "output_type": "stream",
     "text": [
      "--------------------------------------------------------------------------------------------------------------------------------------------\n"
     ]
    }
   ],
   "source": [
    "print('-------' * 20)"
   ]
  },
  {
   "cell_type": "code",
   "execution_count": 44,
   "id": "fef398cc",
   "metadata": {},
   "outputs": [
    {
     "data": {
      "text/plain": [
       "'Alo soy Mary soy de Venezuela'"
      ]
     },
     "execution_count": 44,
     "metadata": {},
     "output_type": "execute_result"
    }
   ],
   "source": [
    "saluditos = 'Alo soy Mary %s'\n",
    "\n",
    "saluditos % 'soy de Venezuela'"
   ]
  },
  {
   "cell_type": "code",
   "execution_count": 46,
   "id": "21dd95ff",
   "metadata": {},
   "outputs": [
    {
     "data": {
      "text/plain": [
       "'Alo policia soy Mary Estudiante de DA 12'"
      ]
     },
     "execution_count": 46,
     "metadata": {},
     "output_type": "execute_result"
    }
   ],
   "source": [
    "saluditos = 'Alo policia soy {} {} {}'\n",
    "\n",
    "saluditos.format('Mary', 'Estudiante de DA', 12)"
   ]
  },
  {
   "cell_type": "code",
   "execution_count": 47,
   "id": "cd342ea1",
   "metadata": {},
   "outputs": [
    {
     "data": {
      "text/plain": [
       "'Tambien se puede de esta forma repetir, no repetir, repetir'"
      ]
     },
     "execution_count": 47,
     "metadata": {},
     "output_type": "execute_result"
    }
   ],
   "source": [
    "saluditos = 'Tambien se puede de esta forma {0}, {1}, {0}'\n",
    "\n",
    "saluditos.format('repetir', 'no repetir')"
   ]
  },
  {
   "cell_type": "code",
   "execution_count": 49,
   "id": "2e1d9324",
   "metadata": {},
   "outputs": [
    {
     "data": {
      "text/plain": [
       "'Alo, soy Mariangel Reyes pase la edad de los rockstar 28'"
      ]
     },
     "execution_count": 49,
     "metadata": {},
     "output_type": "execute_result"
    }
   ],
   "source": [
    "#Forma recomendada\n",
    "\n",
    "nombre = 'Mariangel Reyes'\n",
    "\n",
    "edad = 28\n",
    "\n",
    "f'Alo, soy {nombre} pase la edad de los rockstar {edad}'"
   ]
  },
  {
   "cell_type": "code",
   "execution_count": 50,
   "id": "34c83aad",
   "metadata": {},
   "outputs": [
    {
     "name": "stdout",
     "output_type": "stream",
     "text": [
      "['Do', 'not', 'go', 'gentle', 'into', 'that', 'good', 'night,', 'Old', 'age', 'should', 'burn', 'and', 'rave', 'at', 'close', 'of', 'day;', 'Rage,', 'rage', 'against', 'the', 'dying', 'of', 'the', 'light.']\n"
     ]
    }
   ],
   "source": [
    "poema = \"\"\"Do not go gentle into that good night, \n",
    "Old age should burn and rave at close of day;\n",
    "Rage, rage against the dying of the light.\"\"\"\n",
    "\n",
    "print(poema.split())"
   ]
  },
  {
   "cell_type": "code",
   "execution_count": 52,
   "id": "970eb551",
   "metadata": {},
   "outputs": [
    {
     "name": "stdout",
     "output_type": "stream",
     "text": [
      "['Do not go gentle into that good night, \\nOld age should burn and rave at close of day', '\\nRage, rage against the dying of the light.']\n"
     ]
    }
   ],
   "source": [
    "print(poema.split(';'))"
   ]
  },
  {
   "cell_type": "code",
   "execution_count": 53,
   "id": "305504f9",
   "metadata": {},
   "outputs": [
    {
     "name": "stdout",
     "output_type": "stream",
     "text": [
      "['Do not go gentle into that good night', ' \\nOld age should burn and rave at close of day;\\nRage', ' rage against the dying of the light.']\n"
     ]
    }
   ],
   "source": [
    "print(poema.split(','))"
   ]
  },
  {
   "cell_type": "code",
   "execution_count": 56,
   "id": "a6d4ed81",
   "metadata": {},
   "outputs": [
    {
     "name": "stdout",
     "output_type": "stream",
     "text": [
      "True\n"
     ]
    }
   ],
   "source": [
    "print(poema.startswith('Do'))"
   ]
  },
  {
   "cell_type": "code",
   "execution_count": 57,
   "id": "e502c3c8",
   "metadata": {},
   "outputs": [
    {
     "name": "stdout",
     "output_type": "stream",
     "text": [
      "False\n"
     ]
    }
   ],
   "source": [
    "print(poema.startswith('do'))"
   ]
  },
  {
   "cell_type": "code",
   "execution_count": 58,
   "id": "43a06131",
   "metadata": {},
   "outputs": [
    {
     "name": "stdout",
     "output_type": "stream",
     "text": [
      "False\n"
     ]
    }
   ],
   "source": [
    "print(poema.startswith('ght'))"
   ]
  },
  {
   "cell_type": "code",
   "execution_count": 59,
   "id": "28137ef6",
   "metadata": {},
   "outputs": [
    {
     "name": "stdout",
     "output_type": "stream",
     "text": [
      "False\n"
     ]
    }
   ],
   "source": [
    "print(poema.startswith('ght.'))"
   ]
  },
  {
   "cell_type": "code",
   "execution_count": 60,
   "id": "6d67ecfe",
   "metadata": {},
   "outputs": [
    {
     "data": {
      "text/plain": [
       "True"
      ]
     },
     "execution_count": 60,
     "metadata": {},
     "output_type": "execute_result"
    }
   ],
   "source": [
    "'rage' in poema"
   ]
  },
  {
   "cell_type": "code",
   "execution_count": 61,
   "id": "055bb718",
   "metadata": {},
   "outputs": [],
   "source": [
    "assert 'rage' in poema "
   ]
  },
  {
   "cell_type": "code",
   "execution_count": 63,
   "id": "c2fa6803",
   "metadata": {},
   "outputs": [
    {
     "ename": "AssertionError",
     "evalue": "",
     "output_type": "error",
     "traceback": [
      "\u001b[1;31m---------------------------------------------------------------------------\u001b[0m",
      "\u001b[1;31mAssertionError\u001b[0m                            Traceback (most recent call last)",
      "\u001b[1;32m<ipython-input-63-f2e5f606ed6d>\u001b[0m in \u001b[0;36m<module>\u001b[1;34m\u001b[0m\n\u001b[1;32m----> 1\u001b[1;33m \u001b[1;32massert\u001b[0m \u001b[1;34m'raves'\u001b[0m \u001b[1;32min\u001b[0m \u001b[0mpoema\u001b[0m \u001b[1;31m# si no encuentra el objeto demtro de nuestros elementos entonces levanta un error\u001b[0m\u001b[1;33m\u001b[0m\u001b[1;33m\u001b[0m\u001b[0m\n\u001b[0m",
      "\u001b[1;31mAssertionError\u001b[0m: "
     ]
    }
   ],
   "source": [
    "assert 'raves' in poema # si no encuentra el objeto demtro de nuestros elementos entonces levanta un error"
   ]
  },
  {
   "cell_type": "code",
   "execution_count": 67,
   "id": "77bca864",
   "metadata": {},
   "outputs": [
    {
     "name": "stdout",
     "output_type": "stream",
     "text": [
      "do not go gentle into that good night.\n",
      "DO NOT GO GENTLE INTO THAT GOOD NIGHT.\n",
      "Do not go gentle into that good night.\n",
      "Do Not Go Gentle Into That Good Night.\n"
     ]
    }
   ],
   "source": [
    "poem = 'Do not Go genTle InTo that GOOD night.'\n",
    "\n",
    "print(poem.lower())\n",
    "print(poem.upper())\n",
    "print(poem.capitalize())\n",
    "print(poem.title())"
   ]
  },
  {
   "cell_type": "markdown",
   "id": "d4a11838",
   "metadata": {},
   "source": [
    "### Expresiones regulares (regular expression)"
   ]
  },
  {
   "cell_type": "code",
   "execution_count": 68,
   "id": "49efa15e",
   "metadata": {},
   "outputs": [],
   "source": [
    "#Modulo regular expressions \n",
    "import re "
   ]
  },
  {
   "cell_type": "code",
   "execution_count": 69,
   "id": "34025213",
   "metadata": {},
   "outputs": [],
   "source": [
    "v = \"\"\"Voilà! In view, a humble vaudevillian veteran, \n",
    "cast vicariously as both victim and villain by the vicissitudes\n",
    "of Fate. This visage, no mere veneer of vanity, is it vestige \n",
    "of the vox populi, now vacant, vanished, as the once vital voice \n",
    "of the verisimilitude now venerates what they once vilified.\n",
    "However, this valorous visitation of a bygone vexation stands\n",
    "vivified, and has vowed to vanquish these venal and virulent\n",
    "vermin vanguarding vice and vouchsafing the violently vicious \n",
    "and voracious violation of volition. \n",
    "The only verdict is vengeance; \n",
    "a vendetta held as a votive, not in vain,\n",
    "for the value and veracity of such shall one day vindicate\n",
    "the vigilant and the virtuous.\n",
    "Verily, this vichyssoise of verbiage veers most verbose\n",
    "vis-à-vis an introduction,\n",
    "and so it is my very good honor to meet you\n",
    "and you may call me V.\"\"\""
   ]
  },
  {
   "cell_type": "code",
   "execution_count": 70,
   "id": "4dc380e4",
   "metadata": {},
   "outputs": [
    {
     "name": "stdout",
     "output_type": "stream",
     "text": [
      "['ver', 'ver', 'ver', 'ver', 'ver', 'ver', 'ver', 'ver']\n"
     ]
    }
   ],
   "source": [
    "print(re.findall(r'ver', v))"
   ]
  },
  {
   "cell_type": "code",
   "execution_count": 71,
   "id": "98ad1242",
   "metadata": {},
   "outputs": [
    {
     "data": {
      "text/plain": [
       "['Voilà! In view, a humble vaudevillian veteran, \\ncast vicariously as both victim ',\n",
       " ' villain by the vicissitudes\\nof Fate. This visage, no mere veneer of vanity, is it vestige \\nof the vox populi, now vacant, vanished, as the once vital voice \\nof the verisimilitude now venerates what they once vilified.\\nHowever, this valorous visitation of a bygone vexation st',\n",
       " 's\\nvivified, ',\n",
       " ' has vowed to vanquish these venal ',\n",
       " ' virulent\\nvermin vanguarding vice ',\n",
       " ' vouchsafing the violently vicious \\n',\n",
       " ' voracious violation of volition. \\nThe only verdict is vengeance; \\na vendetta held as a votive, not in vain,\\nfor the value ',\n",
       " ' veracity of such shall one day vindicate\\nthe vigilant ',\n",
       " ' the virtuous.\\nVerily, this vichyssoise of verbiage veers most verbose\\nvis-à-vis an introduction,\\n',\n",
       " ' so it is my very good honor to meet you\\n',\n",
       " ' you may call me V.']"
      ]
     },
     "execution_count": 71,
     "metadata": {},
     "output_type": "execute_result"
    }
   ],
   "source": [
    "re.split(r'and', v)"
   ]
  },
  {
   "cell_type": "code",
   "execution_count": 72,
   "id": "bacf494a",
   "metadata": {},
   "outputs": [
    {
     "data": {
      "text/plain": [
       "<re.Match object; span=(799, 804), match='honor'>"
      ]
     },
     "execution_count": 72,
     "metadata": {},
     "output_type": "execute_result"
    }
   ],
   "source": [
    "re.search(r'honor', v)"
   ]
  },
  {
   "cell_type": "code",
   "execution_count": 73,
   "id": "c1cfc882",
   "metadata": {},
   "outputs": [
    {
     "data": {
      "text/plain": [
       "'honor'"
      ]
     },
     "execution_count": 73,
     "metadata": {},
     "output_type": "execute_result"
    }
   ],
   "source": [
    "v[799:804]"
   ]
  },
  {
   "cell_type": "code",
   "execution_count": 74,
   "id": "249b0f1a",
   "metadata": {},
   "outputs": [
    {
     "name": "stdout",
     "output_type": "stream",
     "text": [
      "['o', 'i', 'l', 'n', 'v', 'i', 'e', 'w', 'a', 'h', 'u', 'm', 'b', 'l', 'e', 'v', 'a', 'u', 'd', 'e', 'v', 'i', 'l', 'l', 'i', 'a', 'n', 'v', 'e', 't', 'e', 'r', 'a', 'n', 'c', 'a', 's', 't', 'v', 'i', 'c', 'a', 'r', 'i', 'o', 'u', 's', 'l', 'y', 'a', 's', 'b', 'o', 't', 'h', 'v', 'i', 'c', 't', 'i', 'm', 'a', 'n', 'd', 'v', 'i', 'l', 'l', 'a', 'i', 'n', 'b', 'y', 't', 'h', 'e', 'v', 'i', 'c', 'i', 's', 's', 'i', 't', 'u', 'd', 'e', 's', 'o', 'f', 'a', 't', 'e', 'h', 'i', 's', 'v', 'i', 's', 'a', 'g', 'e', 'n', 'o', 'm', 'e', 'r', 'e', 'v', 'e', 'n', 'e', 'e', 'r', 'o', 'f', 'v', 'a', 'n', 'i', 't', 'y', 'i', 's', 'i', 't', 'v', 'e', 's', 't', 'i', 'g', 'e', 'o', 'f', 't', 'h', 'e', 'v', 'o', 'x', 'p', 'o', 'p', 'u', 'l', 'i', 'n', 'o', 'w', 'v', 'a', 'c', 'a', 'n', 't', 'v', 'a', 'n', 'i', 's', 'h', 'e', 'd', 'a', 's', 't', 'h', 'e', 'o', 'n', 'c', 'e', 'v', 'i', 't', 'a', 'l', 'v', 'o', 'i', 'c', 'e', 'o', 'f', 't', 'h', 'e', 'v', 'e', 'r', 'i', 's', 'i', 'm', 'i', 'l', 'i', 't', 'u', 'd', 'e', 'n', 'o', 'w', 'v', 'e', 'n', 'e', 'r', 'a', 't', 'e', 's', 'w', 'h', 'a', 't', 't', 'h', 'e', 'y', 'o', 'n', 'c', 'e', 'v', 'i', 'l', 'i', 'f', 'i', 'e', 'd', 'o', 'w', 'e', 'v', 'e', 'r', 't', 'h', 'i', 's', 'v', 'a', 'l', 'o', 'r', 'o', 'u', 's', 'v', 'i', 's', 'i', 't', 'a', 't', 'i', 'o', 'n', 'o', 'f', 'a', 'b', 'y', 'g', 'o', 'n', 'e', 'v', 'e', 'x', 'a', 't', 'i', 'o', 'n', 's', 't', 'a', 'n', 'd', 's', 'v', 'i', 'v', 'i', 'f', 'i', 'e', 'd', 'a', 'n', 'd', 'h', 'a', 's', 'v', 'o', 'w', 'e', 'd', 't', 'o', 'v', 'a', 'n', 'q', 'u', 'i', 's', 'h', 't', 'h', 'e', 's', 'e', 'v', 'e', 'n', 'a', 'l', 'a', 'n', 'd', 'v', 'i', 'r', 'u', 'l', 'e', 'n', 't', 'v', 'e', 'r', 'm', 'i', 'n', 'v', 'a', 'n', 'g', 'u', 'a', 'r', 'd', 'i', 'n', 'g', 'v', 'i', 'c', 'e', 'a', 'n', 'd', 'v', 'o', 'u', 'c', 'h', 's', 'a', 'f', 'i', 'n', 'g', 't', 'h', 'e', 'v', 'i', 'o', 'l', 'e', 'n', 't', 'l', 'y', 'v', 'i', 'c', 'i', 'o', 'u', 's', 'a', 'n', 'd', 'v', 'o', 'r', 'a', 'c', 'i', 'o', 'u', 's', 'v', 'i', 'o', 'l', 'a', 't', 'i', 'o', 'n', 'o', 'f', 'v', 'o', 'l', 'i', 't', 'i', 'o', 'n', 'h', 'e', 'o', 'n', 'l', 'y', 'v', 'e', 'r', 'd', 'i', 'c', 't', 'i', 's', 'v', 'e', 'n', 'g', 'e', 'a', 'n', 'c', 'e', 'a', 'v', 'e', 'n', 'd', 'e', 't', 't', 'a', 'h', 'e', 'l', 'd', 'a', 's', 'a', 'v', 'o', 't', 'i', 'v', 'e', 'n', 'o', 't', 'i', 'n', 'v', 'a', 'i', 'n', 'f', 'o', 'r', 't', 'h', 'e', 'v', 'a', 'l', 'u', 'e', 'a', 'n', 'd', 'v', 'e', 'r', 'a', 'c', 'i', 't', 'y', 'o', 'f', 's', 'u', 'c', 'h', 's', 'h', 'a', 'l', 'l', 'o', 'n', 'e', 'd', 'a', 'y', 'v', 'i', 'n', 'd', 'i', 'c', 'a', 't', 'e', 't', 'h', 'e', 'v', 'i', 'g', 'i', 'l', 'a', 'n', 't', 'a', 'n', 'd', 't', 'h', 'e', 'v', 'i', 'r', 't', 'u', 'o', 'u', 's', 'e', 'r', 'i', 'l', 'y', 't', 'h', 'i', 's', 'v', 'i', 'c', 'h', 'y', 's', 's', 'o', 'i', 's', 'e', 'o', 'f', 'v', 'e', 'r', 'b', 'i', 'a', 'g', 'e', 'v', 'e', 'e', 'r', 's', 'm', 'o', 's', 't', 'v', 'e', 'r', 'b', 'o', 's', 'e', 'v', 'i', 's', 'v', 'i', 's', 'a', 'n', 'i', 'n', 't', 'r', 'o', 'd', 'u', 'c', 't', 'i', 'o', 'n', 'a', 'n', 'd', 's', 'o', 'i', 't', 'i', 's', 'm', 'y', 'v', 'e', 'r', 'y', 'g', 'o', 'o', 'd', 'h', 'o', 'n', 'o', 'r', 't', 'o', 'm', 'e', 'e', 't', 'y', 'o', 'u', 'a', 'n', 'd', 'y', 'o', 'u', 'm', 'a', 'y', 'c', 'a', 'l', 'l', 'm', 'e']\n"
     ]
    }
   ],
   "source": [
    "# [a-z]\n",
    "\n",
    "print(re.findall(r'[a-z]', v))"
   ]
  },
  {
   "cell_type": "code",
   "execution_count": 75,
   "id": "45271223",
   "metadata": {},
   "outputs": [],
   "source": [
    "# ASCII [a-z] [a, b, c, ..., z]"
   ]
  },
  {
   "cell_type": "code",
   "execution_count": 79,
   "id": "14026ee9",
   "metadata": {},
   "outputs": [
    {
     "name": "stdout",
     "output_type": "stream",
     "text": [
      "['V', 'I', 'F', 'T', 'H', 'T', 'V', 'V']\n"
     ]
    }
   ],
   "source": [
    "print(re.findall(r'[A-Z]', v))"
   ]
  },
  {
   "cell_type": "code",
   "execution_count": 80,
   "id": "991dea39",
   "metadata": {},
   "outputs": [
    {
     "name": "stdout",
     "output_type": "stream",
     "text": [
      "['V', 'à', '!', ' ', 'I', ' ', ',', ' ', ' ', ' ', ' ', ',', ' ', '\\n', ' ', ' ', ' ', ' ', ' ', ' ', ' ', ' ', ' ', '\\n', ' ', 'F', '.', ' ', 'T', ' ', ',', ' ', ' ', ' ', ' ', ' ', ',', ' ', ' ', ' ', ' ', '\\n', ' ', ' ', ' ', ',', ' ', ' ', ',', ' ', ',', ' ', ' ', ' ', ' ', ' ', ' ', '\\n', ' ', ' ', ' ', ' ', ' ', ' ', ' ', ' ', '.', '\\n', 'H', ',', ' ', ' ', ' ', ' ', ' ', ' ', ' ', ' ', '\\n', ',', ' ', ' ', ' ', ' ', ' ', ' ', ' ', ' ', ' ', '\\n', ' ', ' ', ' ', ' ', ' ', ' ', ' ', ' ', '\\n', ' ', ' ', ' ', ' ', '.', ' ', '\\n', 'T', ' ', ' ', ' ', ' ', ';', ' ', '\\n', ' ', ' ', ' ', ' ', ' ', ',', ' ', ' ', ' ', ',', '\\n', ' ', ' ', ' ', ' ', ' ', ' ', ' ', ' ', ' ', ' ', '\\n', ' ', ' ', ' ', ' ', '.', '\\n', 'V', ',', ' ', ' ', ' ', ' ', ' ', ' ', ' ', '\\n', '-', 'à', '-', ' ', ' ', ',', '\\n', ' ', ' ', ' ', ' ', ' ', ' ', ' ', ' ', ' ', ' ', '\\n', ' ', ' ', ' ', ' ', ' ', 'V', '.']\n"
     ]
    }
   ],
   "source": [
    "print(re.findall(r'[^a-z]', v)) # Le estamos pidiendo la negación"
   ]
  },
  {
   "cell_type": "markdown",
   "id": "5ccfbc56",
   "metadata": {},
   "source": [
    "\\w: Any alphanumeric character.\n",
    "    \\W: Any non-alphanumeric character.\n",
    "    \\d: Any numeric character.\n",
    "    \\D: Any non-numeric character.\n",
    "    \\s: Any whitespace characters.\n",
    "    \\S: Any non-whitespace characters.\n",
    "    .: Any character except newline (\\n)."
   ]
  },
  {
   "cell_type": "code",
   "execution_count": 83,
   "id": "2c72fddf",
   "metadata": {
    "collapsed": true
   },
   "outputs": [
    {
     "name": "stdout",
     "output_type": "stream",
     "text": [
      "['V', 'o', 'i', 'l', 'à', 'I', 'n', 'v', 'i', 'e', 'w', 'a', 'h', 'u', 'm', 'b', 'l', 'e', 'v', 'a', 'u', 'd', 'e', 'v', 'i', 'l', 'l', 'i', 'a', 'n', 'v', 'e', 't', 'e', 'r', 'a', 'n', 'c', 'a', 's', 't', 'v', 'i', 'c', 'a', 'r', 'i', 'o', 'u', 's', 'l', 'y', 'a', 's', 'b', 'o', 't', 'h', 'v', 'i', 'c', 't', 'i', 'm', 'a', 'n', 'd', 'v', 'i', 'l', 'l', 'a', 'i', 'n', 'b', 'y', 't', 'h', 'e', 'v', 'i', 'c', 'i', 's', 's', 'i', 't', 'u', 'd', 'e', 's', 'o', 'f', 'F', 'a', 't', 'e', 'T', 'h', 'i', 's', 'v', 'i', 's', 'a', 'g', 'e', 'n', 'o', 'm', 'e', 'r', 'e', 'v', 'e', 'n', 'e', 'e', 'r', 'o', 'f', 'v', 'a', 'n', 'i', 't', 'y', 'i', 's', 'i', 't', 'v', 'e', 's', 't', 'i', 'g', 'e', 'o', 'f', 't', 'h', 'e', 'v', 'o', 'x', 'p', 'o', 'p', 'u', 'l', 'i', 'n', 'o', 'w', 'v', 'a', 'c', 'a', 'n', 't', 'v', 'a', 'n', 'i', 's', 'h', 'e', 'd', 'a', 's', 't', 'h', 'e', 'o', 'n', 'c', 'e', 'v', 'i', 't', 'a', 'l', 'v', 'o', 'i', 'c', 'e', 'o', 'f', 't', 'h', 'e', 'v', 'e', 'r', 'i', 's', 'i', 'm', 'i', 'l', 'i', 't', 'u', 'd', 'e', 'n', 'o', 'w', 'v', 'e', 'n', 'e', 'r', 'a', 't', 'e', 's', 'w', 'h', 'a', 't', 't', 'h', 'e', 'y', 'o', 'n', 'c', 'e', 'v', 'i', 'l', 'i', 'f', 'i', 'e', 'd', 'H', 'o', 'w', 'e', 'v', 'e', 'r', 't', 'h', 'i', 's', 'v', 'a', 'l', 'o', 'r', 'o', 'u', 's', 'v', 'i', 's', 'i', 't', 'a', 't', 'i', 'o', 'n', 'o', 'f', 'a', 'b', 'y', 'g', 'o', 'n', 'e', 'v', 'e', 'x', 'a', 't', 'i', 'o', 'n', 's', 't', 'a', 'n', 'd', 's', 'v', 'i', 'v', 'i', 'f', 'i', 'e', 'd', 'a', 'n', 'd', 'h', 'a', 's', 'v', 'o', 'w', 'e', 'd', 't', 'o', 'v', 'a', 'n', 'q', 'u', 'i', 's', 'h', 't', 'h', 'e', 's', 'e', 'v', 'e', 'n', 'a', 'l', 'a', 'n', 'd', 'v', 'i', 'r', 'u', 'l', 'e', 'n', 't', 'v', 'e', 'r', 'm', 'i', 'n', 'v', 'a', 'n', 'g', 'u', 'a', 'r', 'd', 'i', 'n', 'g', 'v', 'i', 'c', 'e', 'a', 'n', 'd', 'v', 'o', 'u', 'c', 'h', 's', 'a', 'f', 'i', 'n', 'g', 't', 'h', 'e', 'v', 'i', 'o', 'l', 'e', 'n', 't', 'l', 'y', 'v', 'i', 'c', 'i', 'o', 'u', 's', 'a', 'n', 'd', 'v', 'o', 'r', 'a', 'c', 'i', 'o', 'u', 's', 'v', 'i', 'o', 'l', 'a', 't', 'i', 'o', 'n', 'o', 'f', 'v', 'o', 'l', 'i', 't', 'i', 'o', 'n', 'T', 'h', 'e', 'o', 'n', 'l', 'y', 'v', 'e', 'r', 'd', 'i', 'c', 't', 'i', 's', 'v', 'e', 'n', 'g', 'e', 'a', 'n', 'c', 'e', 'a', 'v', 'e', 'n', 'd', 'e', 't', 't', 'a', 'h', 'e', 'l', 'd', 'a', 's', 'a', 'v', 'o', 't', 'i', 'v', 'e', 'n', 'o', 't', 'i', 'n', 'v', 'a', 'i', 'n', 'f', 'o', 'r', 't', 'h', 'e', 'v', 'a', 'l', 'u', 'e', 'a', 'n', 'd', 'v', 'e', 'r', 'a', 'c', 'i', 't', 'y', 'o', 'f', 's', 'u', 'c', 'h', 's', 'h', 'a', 'l', 'l', 'o', 'n', 'e', 'd', 'a', 'y', 'v', 'i', 'n', 'd', 'i', 'c', 'a', 't', 'e', 't', 'h', 'e', 'v', 'i', 'g', 'i', 'l', 'a', 'n', 't', 'a', 'n', 'd', 't', 'h', 'e', 'v', 'i', 'r', 't', 'u', 'o', 'u', 's', 'V', 'e', 'r', 'i', 'l', 'y', 't', 'h', 'i', 's', 'v', 'i', 'c', 'h', 'y', 's', 's', 'o', 'i', 's', 'e', 'o', 'f', 'v', 'e', 'r', 'b', 'i', 'a', 'g', 'e', 'v', 'e', 'e', 'r', 's', 'm', 'o', 's', 't', 'v', 'e', 'r', 'b', 'o', 's', 'e', 'v', 'i', 's', 'à', 'v', 'i', 's', 'a', 'n', 'i', 'n', 't', 'r', 'o', 'd', 'u', 'c', 't', 'i', 'o', 'n', 'a', 'n', 'd', 's', 'o', 'i', 't', 'i', 's', 'm', 'y', 'v', 'e', 'r', 'y', 'g', 'o', 'o', 'd', 'h', 'o', 'n', 'o', 'r', 't', 'o', 'm', 'e', 'e', 't', 'y', 'o', 'u', 'a', 'n', 'd', 'y', 'o', 'u', 'm', 'a', 'y', 'c', 'a', 'l', 'l', 'm', 'e', 'V']\n"
     ]
    }
   ],
   "source": [
    "print(re.findall(r'\\w', v))"
   ]
  },
  {
   "cell_type": "code",
   "execution_count": 84,
   "id": "c2c63aca",
   "metadata": {},
   "outputs": [
    {
     "name": "stdout",
     "output_type": "stream",
     "text": [
      "[]\n"
     ]
    }
   ],
   "source": [
    "print(re.findall(r'\\d', v))"
   ]
  },
  {
   "cell_type": "code",
   "execution_count": 85,
   "id": "c03b1e44",
   "metadata": {},
   "outputs": [],
   "source": [
    "nuevo_string = 'Esto es un nuevo string con texto y números 1, 10, 30'"
   ]
  },
  {
   "cell_type": "code",
   "execution_count": 86,
   "id": "314da21a",
   "metadata": {},
   "outputs": [
    {
     "name": "stdout",
     "output_type": "stream",
     "text": [
      "['1', '1', '0', '3', '0']\n"
     ]
    }
   ],
   "source": [
    "# Pasa los números separados, el 10 no viene junto\n",
    "\n",
    "print(re.findall(r'\\d', nuevo_string))"
   ]
  },
  {
   "cell_type": "markdown",
   "id": "dcd3c941",
   "metadata": {},
   "source": [
    "Pagian útil:\n",
    "https://regex101.com/\n"
   ]
  },
  {
   "cell_type": "markdown",
   "id": "b3b13e68",
   "metadata": {},
   "source": [
    "### Regular Expression"
   ]
  },
  {
   "cell_type": "code",
   "execution_count": 87,
   "id": "16b4243d",
   "metadata": {},
   "outputs": [],
   "source": [
    "import re"
   ]
  },
  {
   "cell_type": "code",
   "execution_count": 88,
   "id": "416697a8",
   "metadata": {},
   "outputs": [],
   "source": [
    "text = \"\\\n",
    "Mochila    1.051    48.25\\\n",
    "Playera     1.024   180.54\\\n",
    "Reloj%    0.524    47.20\\\n",
    "Gorra&    0.251    27.14\\\n",
    "Bufanda??    0.508    41.05\\\n",
    "Bufandita$$    1.348    00.05\""
   ]
  },
  {
   "cell_type": "code",
   "execution_count": 89,
   "id": "6eef47b6",
   "metadata": {},
   "outputs": [
    {
     "data": {
      "text/plain": [
       "['o',\n",
       " 'c',\n",
       " 'h',\n",
       " 'i',\n",
       " 'l',\n",
       " 'a',\n",
       " 'l',\n",
       " 'a',\n",
       " 'y',\n",
       " 'e',\n",
       " 'r',\n",
       " 'a',\n",
       " 'e',\n",
       " 'l',\n",
       " 'o',\n",
       " 'j',\n",
       " 'o',\n",
       " 'r',\n",
       " 'r',\n",
       " 'a',\n",
       " 'u',\n",
       " 'f',\n",
       " 'a',\n",
       " 'n',\n",
       " 'd',\n",
       " 'a',\n",
       " 'u',\n",
       " 'f',\n",
       " 'a',\n",
       " 'n',\n",
       " 'd',\n",
       " 'i',\n",
       " 't',\n",
       " 'a']"
      ]
     },
     "execution_count": 89,
     "metadata": {},
     "output_type": "execute_result"
    }
   ],
   "source": [
    "#Solo trae las letras separadas y en minusculas\n",
    "\n",
    "re.findall(r'[a-z]', text)\n"
   ]
  },
  {
   "cell_type": "code",
   "execution_count": 90,
   "id": "73f97381",
   "metadata": {},
   "outputs": [
    {
     "data": {
      "text/plain": [
       "['ochila', 'layera', 'eloj', 'orra', 'ufanda', 'ufandita']"
      ]
     },
     "execution_count": 90,
     "metadata": {},
     "output_type": "execute_result"
    }
   ],
   "source": [
    "#Que busque la letra\n",
    "\n",
    "re.findall(r'[a-z]+', text)"
   ]
  },
  {
   "cell_type": "code",
   "execution_count": 91,
   "id": "403678ce",
   "metadata": {},
   "outputs": [
    {
     "data": {
      "text/plain": [
       "['Mochila', 'Playera', 'Reloj', 'Gorra', 'Bufanda', 'Bufandita']"
      ]
     },
     "execution_count": 91,
     "metadata": {},
     "output_type": "execute_result"
    }
   ],
   "source": [
    "re.findall(r'[a-z]+', text, flags=re.IGNORECASE) #esto elimina la diferencia\n",
    "# Entre minuscula y mayuscula"
   ]
  },
  {
   "cell_type": "code",
   "execution_count": 94,
   "id": "96ad4a0f",
   "metadata": {
    "collapsed": true
   },
   "outputs": [
    {
     "data": {
      "text/plain": [
       "['Mo',\n",
       " 'ch',\n",
       " 'il',\n",
       " 'a ',\n",
       " 'Pl',\n",
       " 'ay',\n",
       " 'er',\n",
       " 'a ',\n",
       " 'Re',\n",
       " 'lo',\n",
       " 'j%',\n",
       " 'Go',\n",
       " 'rr',\n",
       " 'a&',\n",
       " 'Bu',\n",
       " 'fa',\n",
       " 'nd',\n",
       " 'a?',\n",
       " 'Bu',\n",
       " 'fa',\n",
       " 'nd',\n",
       " 'it',\n",
       " 'a$']"
      ]
     },
     "execution_count": 94,
     "metadata": {},
     "output_type": "execute_result"
    }
   ],
   "source": [
    "# . sirve como comodin\n",
    "\n",
    "re.findall(r'[a-z].', text, flags=re.IGNORECASE)"
   ]
  },
  {
   "cell_type": "code",
   "execution_count": 95,
   "id": "fd4f2eca",
   "metadata": {},
   "outputs": [
    {
     "data": {
      "text/plain": [
       "['']"
      ]
     },
     "execution_count": 95,
     "metadata": {},
     "output_type": "execute_result"
    }
   ],
   "source": [
    "#El simbolo $ se refiere en REGEX que está bsucando al final de mi string\"\n",
    "\n",
    "re.findall(r'$', text)"
   ]
  },
  {
   "cell_type": "code",
   "execution_count": 96,
   "id": "ca23735b",
   "metadata": {},
   "outputs": [
    {
     "data": {
      "text/plain": [
       "['0.05']"
      ]
     },
     "execution_count": 96,
     "metadata": {},
     "output_type": "execute_result"
    }
   ],
   "source": [
    "re.findall(r'0.05$', text)"
   ]
  },
  {
   "cell_type": "code",
   "execution_count": 98,
   "id": "b3c4a14a",
   "metadata": {},
   "outputs": [
    {
     "data": {
      "text/plain": [
       "['$', '$']"
      ]
     },
     "execution_count": 98,
     "metadata": {},
     "output_type": "execute_result"
    }
   ],
   "source": [
    "# se debe colocar entre corchetes para que no lo reconozca como parametro propio de ragex\n",
    "\n",
    "re.findall(r'[$]', text)"
   ]
  },
  {
   "cell_type": "code",
   "execution_count": 102,
   "id": "323209ce",
   "metadata": {},
   "outputs": [
    {
     "data": {
      "text/plain": [
       "['%', '&', '?', '?', '$', '$']"
      ]
     },
     "execution_count": 102,
     "metadata": {},
     "output_type": "execute_result"
    }
   ],
   "source": [
    "# va a buscar tal cual el simbolo\n",
    "\n",
    "re.findall(r'[$%&?]', text)"
   ]
  },
  {
   "cell_type": "code",
   "execution_count": 103,
   "id": "b0374c14",
   "metadata": {},
   "outputs": [
    {
     "name": "stdout",
     "output_type": "stream",
     "text": [
      "Mochila    1.051    48.25Playera     1.024   180.54Reloj|    0.524    47.20Gorra|    0.251    27.14Bufanda||    0.508    41.05Bufandita||    1.348    00.05\n"
     ]
    }
   ],
   "source": [
    "#sustituir\n",
    "text_sub = re.sub(r'[$%&?]', '|', text)\n",
    "print(text_sub)"
   ]
  },
  {
   "cell_type": "code",
   "execution_count": 105,
   "id": "84a36e73",
   "metadata": {},
   "outputs": [
    {
     "name": "stdout",
     "output_type": "stream",
     "text": [
      "Mochila    1.051    48.25Playera     1.024   180.54Reloj    0.524    47.20Gorra    0.251    27.14Bufanda    0.508    41.05Bufandita    1.348    00.05\n"
     ]
    }
   ],
   "source": [
    "#Excelente para limpieza\n",
    "text_sub = re.sub(r'[$%&?]', '', text)\n",
    "print(text_sub)"
   ]
  },
  {
   "cell_type": "code",
   "execution_count": 107,
   "id": "cf916450",
   "metadata": {},
   "outputs": [
    {
     "data": {
      "text/plain": [
       "'Mochila    1,051    48,25Playera     1,024   180,54Reloj%    0,524    47,20Gorra&    0,251    27,14Bufanda??    0,508    41,05Bufandita$$    1,348    00,05'"
      ]
     },
     "execution_count": 107,
     "metadata": {},
     "output_type": "execute_result"
    }
   ],
   "source": [
    "#Esto es equivalente\n",
    "re.sub(r'[.]', ',', text)\n",
    "#re.sub(r'\\.', ',', text)"
   ]
  },
  {
   "cell_type": "code",
   "execution_count": 108,
   "id": "4906ac34",
   "metadata": {},
   "outputs": [
    {
     "data": {
      "text/plain": [
       "'Mochila    1,051    48,25Playera     1,024   180,54Reloj%    0,524    47,20Gorra&    0,251    27,14Bufanda??    0,508    41,05Bufandita$$    1,348    00,05'"
      ]
     },
     "execution_count": 108,
     "metadata": {},
     "output_type": "execute_result"
    }
   ],
   "source": [
    "re.sub(r'\\.', ',', text)"
   ]
  },
  {
   "cell_type": "code",
   "execution_count": 109,
   "id": "b7b6d321",
   "metadata": {},
   "outputs": [
    {
     "data": {
      "text/plain": [
       "['Bufanda', 'Bufandita']"
      ]
     },
     "execution_count": 109,
     "metadata": {},
     "output_type": "execute_result"
    }
   ],
   "source": [
    "re.findall(r'Buf[a-z]+', text)"
   ]
  },
  {
   "cell_type": "code",
   "execution_count": null,
   "id": "373f0f61",
   "metadata": {},
   "outputs": [],
   "source": []
  }
 ],
 "metadata": {
  "kernelspec": {
   "display_name": "Python 3",
   "language": "python",
   "name": "python3"
  },
  "language_info": {
   "codemirror_mode": {
    "name": "ipython",
    "version": 3
   },
   "file_extension": ".py",
   "mimetype": "text/x-python",
   "name": "python",
   "nbconvert_exporter": "python",
   "pygments_lexer": "ipython3",
   "version": "3.8.8"
  }
 },
 "nbformat": 4,
 "nbformat_minor": 5
}
