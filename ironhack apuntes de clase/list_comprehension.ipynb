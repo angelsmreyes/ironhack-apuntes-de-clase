{
 "cells": [
  {
   "cell_type": "markdown",
   "id": "a151c67b",
   "metadata": {},
   "source": [
    "### Ques es una lista?\n",
    "\n",
    "Es una estructura de datos que puede contener elementos en su interior de distinta clase y que podemos modificar"
   ]
  },
  {
   "cell_type": "code",
   "execution_count": 1,
   "id": "25a32ffd",
   "metadata": {},
   "outputs": [],
   "source": [
    "lista = [1, 2, 3, 4.5, 6.1, 'a','b', 'saludos', ['a', 'b'],\n",
    "        (56, 23), True, {32, 12}, {'llave':'valor'}]"
   ]
  },
  {
   "cell_type": "code",
   "execution_count": 2,
   "id": "f8ae3da5",
   "metadata": {},
   "outputs": [
    {
     "data": {
      "text/plain": [
       "{'llave': 'valor'}"
      ]
     },
     "execution_count": 2,
     "metadata": {},
     "output_type": "execute_result"
    }
   ],
   "source": [
    "lista[12]"
   ]
  },
  {
   "cell_type": "code",
   "execution_count": 3,
   "id": "4188899d",
   "metadata": {},
   "outputs": [
    {
     "data": {
      "text/plain": [
       "{'llave': 'valor'}"
      ]
     },
     "execution_count": 3,
     "metadata": {},
     "output_type": "execute_result"
    }
   ],
   "source": [
    "lista[-1]"
   ]
  },
  {
   "cell_type": "code",
   "execution_count": 4,
   "id": "a6183b4d",
   "metadata": {},
   "outputs": [
    {
     "data": {
      "text/plain": [
       "[1, 4, 5, 8]"
      ]
     },
     "execution_count": 4,
     "metadata": {},
     "output_type": "execute_result"
    }
   ],
   "source": [
    "list((1, 4, 5, 8))"
   ]
  },
  {
   "cell_type": "markdown",
   "id": "7b329d32",
   "metadata": {},
   "source": [
    "### Unpacking"
   ]
  },
  {
   "cell_type": "code",
   "execution_count": 5,
   "id": "438c77b3",
   "metadata": {},
   "outputs": [],
   "source": [
    "a, b = 1, 2"
   ]
  },
  {
   "cell_type": "code",
   "execution_count": 6,
   "id": "ef149e2b",
   "metadata": {},
   "outputs": [
    {
     "data": {
      "text/plain": [
       "1"
      ]
     },
     "execution_count": 6,
     "metadata": {},
     "output_type": "execute_result"
    }
   ],
   "source": [
    "a"
   ]
  },
  {
   "cell_type": "code",
   "execution_count": 7,
   "id": "076e0f19",
   "metadata": {},
   "outputs": [
    {
     "data": {
      "text/plain": [
       "2"
      ]
     },
     "execution_count": 7,
     "metadata": {},
     "output_type": "execute_result"
    }
   ],
   "source": [
    "b"
   ]
  },
  {
   "cell_type": "code",
   "execution_count": 8,
   "id": "0cca099a",
   "metadata": {},
   "outputs": [],
   "source": [
    "c, d = [3, 4]"
   ]
  },
  {
   "cell_type": "code",
   "execution_count": 9,
   "id": "12ca1a5c",
   "metadata": {},
   "outputs": [
    {
     "data": {
      "text/plain": [
       "3"
      ]
     },
     "execution_count": 9,
     "metadata": {},
     "output_type": "execute_result"
    }
   ],
   "source": [
    "c"
   ]
  },
  {
   "cell_type": "code",
   "execution_count": 10,
   "id": "9693b88d",
   "metadata": {},
   "outputs": [
    {
     "data": {
      "text/plain": [
       "4"
      ]
     },
     "execution_count": 10,
     "metadata": {},
     "output_type": "execute_result"
    }
   ],
   "source": [
    "d"
   ]
  },
  {
   "cell_type": "code",
   "execution_count": 11,
   "id": "2b88ee6f",
   "metadata": {},
   "outputs": [
    {
     "name": "stdout",
     "output_type": "stream",
     "text": [
      "3\n"
     ]
    }
   ],
   "source": [
    "print(c)"
   ]
  },
  {
   "cell_type": "code",
   "execution_count": 12,
   "id": "0b4b13a9",
   "metadata": {},
   "outputs": [
    {
     "name": "stdout",
     "output_type": "stream",
     "text": [
      "4\n"
     ]
    }
   ],
   "source": [
    "print(d)"
   ]
  },
  {
   "cell_type": "code",
   "execution_count": 22,
   "id": "43381a48",
   "metadata": {},
   "outputs": [],
   "source": [
    "num_dict = {'uno':1, 'dos':2, 'tres':3}\n",
    "\n",
    "a, b, c = num_dict"
   ]
  },
  {
   "cell_type": "code",
   "execution_count": 23,
   "id": "32937d03",
   "metadata": {},
   "outputs": [
    {
     "name": "stdout",
     "output_type": "stream",
     "text": [
      "uno\n",
      "dos\n",
      "tres\n"
     ]
    }
   ],
   "source": [
    "print(a)\n",
    "print(b)\n",
    "print(c)"
   ]
  },
  {
   "cell_type": "code",
   "execution_count": 24,
   "id": "307ce78f",
   "metadata": {},
   "outputs": [],
   "source": [
    "num_dict = {'uno':1, 'dos':2, 'tres':3}\n",
    "\n",
    "a, b, c = num_dict.values()"
   ]
  },
  {
   "cell_type": "code",
   "execution_count": 25,
   "id": "41386bec",
   "metadata": {},
   "outputs": [
    {
     "name": "stdout",
     "output_type": "stream",
     "text": [
      "1\n",
      "2\n",
      "3\n"
     ]
    }
   ],
   "source": [
    "print(a)\n",
    "print(b)\n",
    "print(c)"
   ]
  },
  {
   "cell_type": "code",
   "execution_count": 26,
   "id": "f3480a76",
   "metadata": {},
   "outputs": [],
   "source": [
    "num_dict = {'uno':1, 'dos':2, 'tres':3}\n",
    "\n",
    "a, b, c = num_dict.items()"
   ]
  },
  {
   "cell_type": "code",
   "execution_count": 27,
   "id": "b7a0b918",
   "metadata": {},
   "outputs": [
    {
     "name": "stdout",
     "output_type": "stream",
     "text": [
      "('uno', 1)\n",
      "('dos', 2)\n",
      "('tres', 3)\n"
     ]
    }
   ],
   "source": [
    "print(a)\n",
    "print(b)\n",
    "print(c)"
   ]
  },
  {
   "cell_type": "code",
   "execution_count": 28,
   "id": "e6a63596",
   "metadata": {},
   "outputs": [
    {
     "data": {
      "text/plain": [
       "[0, 1, 2]"
      ]
     },
     "execution_count": 28,
     "metadata": {},
     "output_type": "execute_result"
    }
   ],
   "source": [
    "list(range(3))"
   ]
  },
  {
   "cell_type": "code",
   "execution_count": 29,
   "id": "cf443d89",
   "metadata": {},
   "outputs": [
    {
     "name": "stdout",
     "output_type": "stream",
     "text": [
      "0\n",
      "1\n",
      "2\n"
     ]
    }
   ],
   "source": [
    "p, q, r = range(3)\n",
    "\n",
    "print(p)\n",
    "print(q)\n",
    "print(r)"
   ]
  },
  {
   "cell_type": "code",
   "execution_count": 32,
   "id": "b0630bf2",
   "metadata": {},
   "outputs": [],
   "source": [
    "nombre, edad, correo = ['ponce', 27, 'chuchu@gmail.com']"
   ]
  },
  {
   "cell_type": "code",
   "execution_count": 34,
   "id": "a046cc0b",
   "metadata": {
    "collapsed": true
   },
   "outputs": [
    {
     "ename": "NameError",
     "evalue": "name 'base_datos' is not defined",
     "output_type": "error",
     "traceback": [
      "\u001b[1;31m---------------------------------------------------------------------------\u001b[0m",
      "\u001b[1;31mNameError\u001b[0m                                 Traceback (most recent call last)",
      "\u001b[1;32m<ipython-input-34-6924af62e61f>\u001b[0m in \u001b[0;36m<module>\u001b[1;34m\u001b[0m\n\u001b[1;32m----> 1\u001b[1;33m \u001b[1;32mfor\u001b[0m \u001b[0muser\u001b[0m \u001b[1;32min\u001b[0m \u001b[0mbase_datos\u001b[0m\u001b[1;33m:\u001b[0m\u001b[1;33m\u001b[0m\u001b[1;33m\u001b[0m\u001b[0m\n\u001b[0m\u001b[0;32m      2\u001b[0m     \u001b[0mnombre\u001b[0m\u001b[1;33m,\u001b[0m \u001b[0medad\u001b[0m\u001b[1;33m,\u001b[0m \u001b[0mcorreo\u001b[0m \u001b[1;33m=\u001b[0m \u001b[0muser\u001b[0m\u001b[1;33m\u001b[0m\u001b[1;33m\u001b[0m\u001b[0m\n",
      "\u001b[1;31mNameError\u001b[0m: name 'base_datos' is not defined"
     ]
    }
   ],
   "source": [
    "for user in base_datos:\n",
    "    nombre, edad, correo = user"
   ]
  },
  {
   "cell_type": "code",
   "execution_count": 35,
   "id": "8767ddc4",
   "metadata": {
    "collapsed": true
   },
   "outputs": [
    {
     "ename": "NameError",
     "evalue": "name 'base_datos' is not defined",
     "output_type": "error",
     "traceback": [
      "\u001b[1;31m---------------------------------------------------------------------------\u001b[0m",
      "\u001b[1;31mNameError\u001b[0m                                 Traceback (most recent call last)",
      "\u001b[1;32m<ipython-input-35-17c4cc0d9761>\u001b[0m in \u001b[0;36m<module>\u001b[1;34m\u001b[0m\n\u001b[1;32m----> 1\u001b[1;33m \u001b[1;32mfor\u001b[0m \u001b[0muser\u001b[0m \u001b[1;32min\u001b[0m \u001b[0mbase_datos\u001b[0m\u001b[1;33m:\u001b[0m\u001b[1;33m\u001b[0m\u001b[1;33m\u001b[0m\u001b[0m\n\u001b[0m\u001b[0;32m      2\u001b[0m     \u001b[0mnombre\u001b[0m\u001b[1;33m,\u001b[0m \u001b[0medad\u001b[0m\u001b[1;33m,\u001b[0m \u001b[0mcorreo\u001b[0m \u001b[1;33m=\u001b[0m \u001b[0muser\u001b[0m\u001b[1;33m\u001b[0m\u001b[1;33m\u001b[0m\u001b[0m\n\u001b[0;32m      3\u001b[0m     \u001b[0mnombre\u001b[0m\u001b[1;33m.\u001b[0m\u001b[0mupper\u001b[0m\u001b[1;33m(\u001b[0m\u001b[1;33m)\u001b[0m\u001b[1;33m\u001b[0m\u001b[1;33m\u001b[0m\u001b[0m\n",
      "\u001b[1;31mNameError\u001b[0m: name 'base_datos' is not defined"
     ]
    }
   ],
   "source": [
    "for user in base_datos:\n",
    "    nombre, edad, correo = user\n",
    "    nombre.upper()"
   ]
  },
  {
   "cell_type": "code",
   "execution_count": 36,
   "id": "2f06b6d5",
   "metadata": {},
   "outputs": [
    {
     "name": "stdout",
     "output_type": "stream",
     "text": [
      "a = 0 b = 1\n",
      "a = 1 b = 1\n"
     ]
    }
   ],
   "source": [
    "a = 0\n",
    "b = 1\n",
    "\n",
    "print(f'a = {a}', f'b = {b}')\n",
    "\n",
    "a, b = b, b\n",
    "\n",
    "print(f'a = {a}', f'b = {b}')"
   ]
  },
  {
   "cell_type": "markdown",
   "id": "ae8d627b",
   "metadata": {},
   "source": [
    "##### Fibonacci"
   ]
  },
  {
   "cell_type": "markdown",
   "id": "e62b6db7",
   "metadata": {},
   "source": [
    "1, 1, 2, 3, 5, 8, 13, 21....\n",
    "\n",
    "Queremos los primeros diez números de Fibonacci"
   ]
  },
  {
   "cell_type": "code",
   "execution_count": null,
   "id": "3e145e4a",
   "metadata": {},
   "outputs": [],
   "source": [
    "a = 0\n",
    "b = 1\n",
    "\n",
    "a, b = [1, 1]\n",
    "\n",
    "[a, b, b+b, a+b+b, b+a+b+b+b, b+a+b+b+b, ]"
   ]
  },
  {
   "cell_type": "code",
   "execution_count": 38,
   "id": "586dd441",
   "metadata": {},
   "outputs": [
    {
     "name": "stdout",
     "output_type": "stream",
     "text": [
      "1\n",
      "1\n",
      "2\n",
      "3\n",
      "5\n",
      "8\n",
      "13\n",
      "21\n",
      "34\n",
      "55\n"
     ]
    },
    {
     "data": {
      "text/plain": [
       "[1, 1, 2, 3, 5, 8, 13, 21, 34, 55]"
      ]
     },
     "execution_count": 38,
     "metadata": {},
     "output_type": "execute_result"
    }
   ],
   "source": [
    "a= 0\n",
    "b = 1\n",
    "lista = []\n",
    "\n",
    "for x in range(10):\n",
    "    print(b)\n",
    "    lista.append(b)\n",
    "    a, b = b, (a+b)\n",
    "lista"
   ]
  },
  {
   "cell_type": "code",
   "execution_count": 39,
   "id": "18402621",
   "metadata": {},
   "outputs": [
    {
     "name": "stdout",
     "output_type": "stream",
     "text": [
      "('Benja', 25, 'Caracas')\n",
      "('Mari', 28, 'Maracaibo')\n",
      "('Nathy', 27, 'Caracas')\n",
      "('Wil', 33, 'Caracas')\n"
     ]
    }
   ],
   "source": [
    "people = ['Benja', 'Mari', 'Nathy', 'Wil']\n",
    "ages = [25, 28, 27, 33]\n",
    "city = ['Caracas', 'Maracaibo', 'Caracas', 'Caracas']\n",
    "\n",
    "for data in zip(people, ages, city):\n",
    "    print(data)"
   ]
  },
  {
   "cell_type": "code",
   "execution_count": 40,
   "id": "c3e0fc10",
   "metadata": {},
   "outputs": [
    {
     "name": "stdout",
     "output_type": "stream",
     "text": [
      "Benja 25 Caracas\n",
      "Mari 28 Maracaibo\n",
      "Nathy 27 Caracas\n",
      "Wil 33 Caracas\n"
     ]
    }
   ],
   "source": [
    "people = ['Benja', 'Mari', 'Nathy', 'Wil']\n",
    "ages = [25, 28, 27, 33]\n",
    "city = ['Caracas', 'Maracaibo', 'Caracas', 'Caracas']\n",
    "\n",
    "for data in zip(people, ages, city):\n",
    "    person, age, city = data\n",
    "    print(person, age, city)"
   ]
  },
  {
   "cell_type": "code",
   "execution_count": 41,
   "id": "97043b57",
   "metadata": {},
   "outputs": [
    {
     "name": "stdout",
     "output_type": "stream",
     "text": [
      "('Miranda', 100)\n",
      "('Lara', 350)\n",
      "('Zulia', 340)\n",
      "('Falcón', 500)\n"
     ]
    }
   ],
   "source": [
    "edos = ['Miranda', 'Lara', 'Zulia', 'Falcón']\n",
    "pob = [100, 350, 340, 500]\n",
    "\n",
    "for data in zip(edos, pob):\n",
    "    print(data)"
   ]
  },
  {
   "cell_type": "code",
   "execution_count": 42,
   "id": "8557ce77",
   "metadata": {},
   "outputs": [
    {
     "name": "stdout",
     "output_type": "stream",
     "text": [
      "Miranda 100k\n",
      "Lara 350k\n",
      "Zulia 340k\n",
      "Falcón 500k\n"
     ]
    }
   ],
   "source": [
    "for i in range(len(edos)):\n",
    "    print(edos[i], str(pob[i]) + 'k')"
   ]
  },
  {
   "cell_type": "code",
   "execution_count": 43,
   "id": "bcabed97",
   "metadata": {},
   "outputs": [],
   "source": [
    " edo_pob = [(edos[i], pob[i]) for i in range(len(edos))]"
   ]
  },
  {
   "cell_type": "code",
   "execution_count": 44,
   "id": "7d13cdab",
   "metadata": {},
   "outputs": [
    {
     "data": {
      "text/plain": [
       "[('Miranda', 100), ('Lara', 350), ('Zulia', 340), ('Falcón', 500)]"
      ]
     },
     "execution_count": 44,
     "metadata": {},
     "output_type": "execute_result"
    }
   ],
   "source": [
    "edo_pob"
   ]
  },
  {
   "cell_type": "code",
   "execution_count": 45,
   "id": "c660592d",
   "metadata": {},
   "outputs": [
    {
     "name": "stdout",
     "output_type": "stream",
     "text": [
      "[0, 2, 4, 6, 8]\n"
     ]
    }
   ],
   "source": [
    "lista = []\n",
    "\n",
    "for i in range(0, 10, 2):\n",
    "    lista.append(i)\n",
    "    \n",
    "print(lista)"
   ]
  },
  {
   "cell_type": "code",
   "execution_count": 47,
   "id": "36fee63c",
   "metadata": {},
   "outputs": [
    {
     "data": {
      "text/plain": [
       "[0, 2, 4, 6, 8]"
      ]
     },
     "execution_count": 47,
     "metadata": {},
     "output_type": "execute_result"
    }
   ],
   "source": [
    "lista = [i for i in range(0, 10, 2)]\n",
    "lista"
   ]
  },
  {
   "cell_type": "code",
   "execution_count": 49,
   "id": "71cb9982",
   "metadata": {},
   "outputs": [
    {
     "name": "stdout",
     "output_type": "stream",
     "text": [
      "[0, 2, 4, 6, 8, 10, 12, 14, 16, 18, 20, 22, 24, 26, 28, 30, 32, 34, 36, 38, 40, 42, 44, 46, 48, 50, 52, 54, 56, 58, 60, 62, 64, 66, 68, 70, 72, 74, 76, 78, 80, 82, 84, 86, 88, 90, 92, 94, 96, 98]\n"
     ]
    }
   ],
   "source": [
    "super_duper_lista = list()\n",
    "\n",
    "for i in range(100):\n",
    "    if i % 2 == 0:\n",
    "        super_duper_lista.append(i)\n",
    "print(super_duper_lista)"
   ]
  },
  {
   "cell_type": "code",
   "execution_count": 50,
   "id": "11101e2c",
   "metadata": {},
   "outputs": [],
   "source": [
    "super_duper_lista = [i for i in range(100) if i % 2 == 0]"
   ]
  },
  {
   "cell_type": "code",
   "execution_count": 51,
   "id": "2f4a15d0",
   "metadata": {
    "collapsed": true
   },
   "outputs": [
    {
     "data": {
      "text/plain": [
       "[0,\n",
       " 2,\n",
       " 4,\n",
       " 6,\n",
       " 8,\n",
       " 10,\n",
       " 12,\n",
       " 14,\n",
       " 16,\n",
       " 18,\n",
       " 20,\n",
       " 22,\n",
       " 24,\n",
       " 26,\n",
       " 28,\n",
       " 30,\n",
       " 32,\n",
       " 34,\n",
       " 36,\n",
       " 38,\n",
       " 40,\n",
       " 42,\n",
       " 44,\n",
       " 46,\n",
       " 48,\n",
       " 50,\n",
       " 52,\n",
       " 54,\n",
       " 56,\n",
       " 58,\n",
       " 60,\n",
       " 62,\n",
       " 64,\n",
       " 66,\n",
       " 68,\n",
       " 70,\n",
       " 72,\n",
       " 74,\n",
       " 76,\n",
       " 78,\n",
       " 80,\n",
       " 82,\n",
       " 84,\n",
       " 86,\n",
       " 88,\n",
       " 90,\n",
       " 92,\n",
       " 94,\n",
       " 96,\n",
       " 98]"
      ]
     },
     "execution_count": 51,
     "metadata": {},
     "output_type": "execute_result"
    }
   ],
   "source": [
    "super_duper_lista"
   ]
  },
  {
   "cell_type": "code",
   "execution_count": 52,
   "id": "ec98a045",
   "metadata": {},
   "outputs": [
    {
     "name": "stdout",
     "output_type": "stream",
     "text": [
      "[('A', 'A'), ('A', 'B'), ('A', 'C'), ('A', 'D'), ('B', 'B'), ('B', 'C'), ('B', 'D'), ('C', 'C'), ('C', 'D'), ('D', 'D')]\n"
     ]
    }
   ],
   "source": [
    "letras = 'ABCD'\n",
    "\n",
    "pares = []\n",
    "\n",
    "for a in range(len(letras)):\n",
    "    for b in range(a, len(letras)):\n",
    "        pares.append((letras[a], letras[b]))\n",
    "        \n",
    "print(pares)"
   ]
  },
  {
   "cell_type": "code",
   "execution_count": 54,
   "id": "9205510f",
   "metadata": {},
   "outputs": [],
   "source": [
    "letras = 'ABCD'\n",
    "\n",
    "pares = [(letras[a], letras[b]) for a in range(len(letras)) for b in range(a, len(letras))]\n",
    "\n"
   ]
  },
  {
   "cell_type": "code",
   "execution_count": 55,
   "id": "8fdbb76a",
   "metadata": {},
   "outputs": [
    {
     "data": {
      "text/plain": [
       "[('A', 'A'),\n",
       " ('A', 'B'),\n",
       " ('A', 'C'),\n",
       " ('A', 'D'),\n",
       " ('B', 'B'),\n",
       " ('B', 'C'),\n",
       " ('B', 'D'),\n",
       " ('C', 'C'),\n",
       " ('C', 'D'),\n",
       " ('D', 'D')]"
      ]
     },
     "execution_count": 55,
     "metadata": {},
     "output_type": "execute_result"
    }
   ],
   "source": [
    "pares"
   ]
  },
  {
   "cell_type": "code",
   "execution_count": 57,
   "id": "de90826f",
   "metadata": {},
   "outputs": [
    {
     "name": "stdout",
     "output_type": "stream",
     "text": [
      "[100, 'se paso', 150, 125, 'se paso', 'se paso']\n"
     ]
    }
   ],
   "source": [
    "numeros = [100, 200, 150, 125, 300, 500]\n",
    "\n",
    "numeros_filtrados = []\n",
    "\n",
    "for i in numeros:\n",
    "    if i < 200:\n",
    "        numeros_filtrados.append(i)\n",
    "    else:\n",
    "        numeros_filtrados.append('se paso')\n",
    "\n",
    "print(numeros_filtrados)"
   ]
  },
  {
   "cell_type": "code",
   "execution_count": 59,
   "id": "98a525b7",
   "metadata": {},
   "outputs": [],
   "source": [
    "numeros_filtrados = [i if i < 200 else 'se paso' for i in numeros ]"
   ]
  },
  {
   "cell_type": "code",
   "execution_count": 60,
   "id": "17694ffd",
   "metadata": {},
   "outputs": [
    {
     "data": {
      "text/plain": [
       "[100, 'se paso', 150, 125, 'se paso', 'se paso']"
      ]
     },
     "execution_count": 60,
     "metadata": {},
     "output_type": "execute_result"
    }
   ],
   "source": [
    "numeros_filtrados"
   ]
  },
  {
   "cell_type": "code",
   "execution_count": 64,
   "id": "6399e847",
   "metadata": {},
   "outputs": [
    {
     "ename": "SyntaxError",
     "evalue": "unexpected EOF while parsing (<ipython-input-64-7b2def19087c>, line 1)",
     "output_type": "error",
     "traceback": [
      "\u001b[1;36m  File \u001b[1;32m\"<ipython-input-64-7b2def19087c>\"\u001b[1;36m, line \u001b[1;32m1\u001b[0m\n\u001b[1;33m    numeros = [100, 200, 150, 125, 300, 500\u001b[0m\n\u001b[1;37m                                           ^\u001b[0m\n\u001b[1;31mSyntaxError\u001b[0m\u001b[1;31m:\u001b[0m unexpected EOF while parsing\n"
     ]
    }
   ],
   "source": [
    "numeros = [100, 200, 150, 125, 300, 500"
   ]
  },
  {
   "cell_type": "code",
   "execution_count": 65,
   "id": "08a3c147",
   "metadata": {},
   "outputs": [
    {
     "data": {
      "text/plain": [
       "[150, 125]"
      ]
     },
     "execution_count": 65,
     "metadata": {},
     "output_type": "execute_result"
    }
   ],
   "source": [
    "\n",
    "\n",
    "\n",
    "numeros_filtrados = [i for i in numeros if i < 200 if i > 100]\n",
    "numeros_filtrados"
   ]
  },
  {
   "cell_type": "code",
   "execution_count": 66,
   "id": "641dee34",
   "metadata": {},
   "outputs": [
    {
     "data": {
      "text/plain": [
       "[125]"
      ]
     },
     "execution_count": 66,
     "metadata": {},
     "output_type": "execute_result"
    }
   ],
   "source": [
    "numeros_filtrados = [i if i < 200 else 'se paso' for i in numeros if i % 2 == 1]\n",
    "numeros_filtrados"
   ]
  },
  {
   "cell_type": "code",
   "execution_count": 67,
   "id": "40b9f5c6",
   "metadata": {},
   "outputs": [
    {
     "data": {
      "text/plain": [
       "[150, 125]"
      ]
     },
     "execution_count": 67,
     "metadata": {},
     "output_type": "execute_result"
    }
   ],
   "source": [
    "numeros_filtrados = [i for i in numeros if i < 200 and i > 100]\n",
    "numeros_filtrados"
   ]
  },
  {
   "cell_type": "code",
   "execution_count": 68,
   "id": "e793ebd3",
   "metadata": {},
   "outputs": [
    {
     "data": {
      "text/plain": [
       "[100, 'se paso', 150, 125, 'se paso', 'se paso']"
      ]
     },
     "execution_count": 68,
     "metadata": {},
     "output_type": "execute_result"
    }
   ],
   "source": [
    "def doscientos_para_arriba(numero):\n",
    "    return numero if numero < 200 else 'se paso'\n",
    "\n",
    "numeros_filtrados = [doscientos_para_arriba(i) for i in numeros]\n",
    "numeros_filtrados"
   ]
  },
  {
   "cell_type": "code",
   "execution_count": 69,
   "id": "0a3c4b97",
   "metadata": {},
   "outputs": [
    {
     "data": {
      "text/plain": [
       "[[0, 1, 2, 3, 4, 5, 6],\n",
       " [0, 1, 2, 3, 4, 5, 6],\n",
       " [0, 1, 2, 3, 4, 5, 6],\n",
       " [0, 1, 2, 3, 4, 5, 6],\n",
       " [0, 1, 2, 3, 4, 5, 6]]"
      ]
     },
     "execution_count": 69,
     "metadata": {},
     "output_type": "execute_result"
    }
   ],
   "source": [
    "matriz = [\n",
    "    [i for i in range(7)]\n",
    "    for j in range(5)\n",
    "]\n",
    "\n",
    "matriz"
   ]
  },
  {
   "cell_type": "markdown",
   "id": "ff6c30d9",
   "metadata": {},
   "source": [
    "### Dict Comprehension"
   ]
  },
  {
   "cell_type": "code",
   "execution_count": 70,
   "id": "80547233",
   "metadata": {},
   "outputs": [
    {
     "data": {
      "text/plain": [
       "'abcdefghijklmnopqrstuvwxyz'"
      ]
     },
     "execution_count": 70,
     "metadata": {},
     "output_type": "execute_result"
    }
   ],
   "source": [
    "from string import ascii_lowercase\n",
    "\n",
    "ascii_lowercase"
   ]
  },
  {
   "cell_type": "code",
   "execution_count": 72,
   "id": "079ee970",
   "metadata": {},
   "outputs": [
    {
     "name": "stdout",
     "output_type": "stream",
     "text": [
      "{'a': 1, 'b': 2, 'c': 3, 'd': 4, 'e': 5, 'f': 6, 'g': 7, 'h': 8, 'i': 9, 'j': 10, 'k': 11, 'l': 12, 'm': 13, 'n': 14, 'o': 15, 'p': 16, 'q': 17, 'r': 18, 's': 19, 't': 20, 'u': 21, 'v': 22, 'w': 23, 'x': 24, 'y': 25, 'z': 26}\n"
     ]
    }
   ],
   "source": [
    "lettermap = dict((c, k) for k, c in enumerate(ascii_lowercase, 1))\n",
    "print(lettermap)"
   ]
  },
  {
   "cell_type": "code",
   "execution_count": 73,
   "id": "f9267b21",
   "metadata": {},
   "outputs": [
    {
     "name": "stdout",
     "output_type": "stream",
     "text": [
      "{'a': 1, 'b': 2, 'c': 3, 'd': 4, 'e': 5, 'f': 6, 'g': 7, 'h': 8, 'i': 9, 'j': 10, 'k': 11, 'l': 12, 'm': 13, 'n': 14, 'o': 15, 'p': 16, 'q': 17, 'r': 18, 's': 19, 't': 20, 'u': 21, 'v': 22, 'w': 23, 'x': 24, 'y': 25, 'z': 26}\n"
     ]
    }
   ],
   "source": [
    "lettermap = {c:k for k, c in enumerate(ascii_lowercase, 1)}\n",
    "print(lettermap)"
   ]
  },
  {
   "cell_type": "code",
   "execution_count": null,
   "id": "a89ab4f0",
   "metadata": {},
   "outputs": [],
   "source": [
    "for k, c in enumerate "
   ]
  }
 ],
 "metadata": {
  "kernelspec": {
   "display_name": "Python 3",
   "language": "python",
   "name": "python3"
  },
  "language_info": {
   "codemirror_mode": {
    "name": "ipython",
    "version": 3
   },
   "file_extension": ".py",
   "mimetype": "text/x-python",
   "name": "python",
   "nbconvert_exporter": "python",
   "pygments_lexer": "ipython3",
   "version": "3.8.8"
  }
 },
 "nbformat": 4,
 "nbformat_minor": 5
}
